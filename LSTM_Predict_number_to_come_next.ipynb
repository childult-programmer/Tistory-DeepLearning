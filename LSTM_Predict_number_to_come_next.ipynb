{
  "nbformat": 4,
  "nbformat_minor": 0,
  "metadata": {
    "colab": {
      "name": "LSTM - Predict number to come next.ipynb",
      "provenance": [],
      "collapsed_sections": [],
      "authorship_tag": "ABX9TyP58L+pTsk0IzP7R2eP9ABA",
      "include_colab_link": true
    },
    "kernelspec": {
      "name": "python3",
      "display_name": "Python 3"
    },
    "accelerator": "GPU"
  },
  "cells": [
    {
      "cell_type": "markdown",
      "metadata": {
        "id": "view-in-github",
        "colab_type": "text"
      },
      "source": [
        "<a href=\"https://colab.research.google.com/github/childult-programmer/Tistory-DeepLearning/blob/master/LSTM_Predict_number_to_come_next.ipynb\" target=\"_parent\"><img src=\"https://colab.research.google.com/assets/colab-badge.svg\" alt=\"Open In Colab\"/></a>"
      ]
    },
    {
      "cell_type": "code",
      "metadata": {
        "id": "Y1Gog3KUbVOZ"
      },
      "source": [
        "from keras.models import Sequential\n",
        "from keras.layers import Dense, LSTM\n",
        "from sklearn.model_selection import train_test_split\n",
        "import numpy as np\n",
        "import matplotlib.pyplot as plt"
      ],
      "execution_count": 1,
      "outputs": []
    },
    {
      "cell_type": "code",
      "metadata": {
        "id": "JfUi8WL2byHc"
      },
      "source": [
        "# Data preparation"
      ],
      "execution_count": 2,
      "outputs": []
    },
    {
      "cell_type": "code",
      "metadata": {
        "id": "0lyS6LaEcG4X"
      },
      "source": [
        "Data = [[[(i+j)/100] for i in range (5)] for j in range (100)]\n",
        "target = [(i+5)/100 for i in range (100)]"
      ],
      "execution_count": 3,
      "outputs": []
    },
    {
      "cell_type": "code",
      "metadata": {
        "id": "OwdBLD3Lcd4N",
        "outputId": "3db2f56e-b958-463f-aaab-2f5dc05ee19d",
        "colab": {
          "base_uri": "https://localhost:8080/",
          "height": 34
        }
      },
      "source": [
        "Data[0]"
      ],
      "execution_count": 4,
      "outputs": [
        {
          "output_type": "execute_result",
          "data": {
            "text/plain": [
              "[[0.0], [0.01], [0.02], [0.03], [0.04]]"
            ]
          },
          "metadata": {
            "tags": []
          },
          "execution_count": 4
        }
      ]
    },
    {
      "cell_type": "code",
      "metadata": {
        "id": "3Zvi6X3lcgOF",
        "outputId": "ac514499-806a-44f2-d917-df72ff54cfb2",
        "colab": {
          "base_uri": "https://localhost:8080/",
          "height": 34
        }
      },
      "source": [
        "target[0]"
      ],
      "execution_count": 5,
      "outputs": [
        {
          "output_type": "execute_result",
          "data": {
            "text/plain": [
              "0.05"
            ]
          },
          "metadata": {
            "tags": []
          },
          "execution_count": 5
        }
      ]
    },
    {
      "cell_type": "code",
      "metadata": {
        "id": "wHkzPlWvcz16"
      },
      "source": [
        "data = np.array(Data, dtype=float)\n",
        "target = np.array(target, dtype=float) "
      ],
      "execution_count": 6,
      "outputs": []
    },
    {
      "cell_type": "code",
      "metadata": {
        "id": "eIzY5vW0dDH8",
        "outputId": "594ca2f6-9cdc-43a6-f3ed-466547b4c26c",
        "colab": {
          "base_uri": "https://localhost:8080/",
          "height": 34
        }
      },
      "source": [
        "data.shape"
      ],
      "execution_count": 7,
      "outputs": [
        {
          "output_type": "execute_result",
          "data": {
            "text/plain": [
              "(100, 5, 1)"
            ]
          },
          "metadata": {
            "tags": []
          },
          "execution_count": 7
        }
      ]
    },
    {
      "cell_type": "code",
      "metadata": {
        "id": "O2p3by48dEog",
        "outputId": "34dd0275-306d-4242-bef3-21f1d138ada0",
        "colab": {
          "base_uri": "https://localhost:8080/",
          "height": 34
        }
      },
      "source": [
        "target.shape"
      ],
      "execution_count": 8,
      "outputs": [
        {
          "output_type": "execute_result",
          "data": {
            "text/plain": [
              "(100,)"
            ]
          },
          "metadata": {
            "tags": []
          },
          "execution_count": 8
        }
      ]
    },
    {
      "cell_type": "code",
      "metadata": {
        "id": "Rd4_aHXodFn-"
      },
      "source": [
        "x_train, x_test, y_train, y_test = train_test_split(data, target, test_size = 0.2, random_state = 4)"
      ],
      "execution_count": 9,
      "outputs": []
    },
    {
      "cell_type": "code",
      "metadata": {
        "id": "5xU-P67zdb00"
      },
      "source": [
        "# RNN model"
      ],
      "execution_count": 10,
      "outputs": []
    },
    {
      "cell_type": "code",
      "metadata": {
        "id": "flhW0cV0dvAZ"
      },
      "source": [
        "model = Sequential()"
      ],
      "execution_count": 11,
      "outputs": []
    },
    {
      "cell_type": "code",
      "metadata": {
        "id": "OE2EOtDud3Q4"
      },
      "source": [
        "model.add(LSTM((1), batch_input_shape=(None, None, 1), return_sequences=True))\n",
        "model.add(LSTM((1), return_sequences=False))"
      ],
      "execution_count": 12,
      "outputs": []
    },
    {
      "cell_type": "code",
      "metadata": {
        "id": "NTMndrTkelq5"
      },
      "source": [
        "model.compile(loss = 'mean_absolute_error', optimizer='adam', metrics=['accuracy'])"
      ],
      "execution_count": 13,
      "outputs": []
    },
    {
      "cell_type": "code",
      "metadata": {
        "id": "oppNLir6e1lw",
        "outputId": "1fb0bf98-4a09-45c1-9096-60bf2c13d4cb",
        "colab": {
          "base_uri": "https://localhost:8080/",
          "height": 221
        }
      },
      "source": [
        "model.summary()"
      ],
      "execution_count": 14,
      "outputs": [
        {
          "output_type": "stream",
          "text": [
            "Model: \"sequential\"\n",
            "_________________________________________________________________\n",
            "Layer (type)                 Output Shape              Param #   \n",
            "=================================================================\n",
            "lstm (LSTM)                  (None, None, 1)           12        \n",
            "_________________________________________________________________\n",
            "lstm_1 (LSTM)                (None, 1)                 12        \n",
            "=================================================================\n",
            "Total params: 24\n",
            "Trainable params: 24\n",
            "Non-trainable params: 0\n",
            "_________________________________________________________________\n"
          ],
          "name": "stdout"
        }
      ]
    },
    {
      "cell_type": "code",
      "metadata": {
        "id": "z7upF86ee3zA",
        "outputId": "7449c828-f218-4ae3-8901-a7de07dfeac6",
        "colab": {
          "base_uri": "https://localhost:8080/",
          "height": 1000
        }
      },
      "source": [
        "# Since it is a simple operation, we will only repeat 100 epochs\n",
        "history = model.fit(x_train, y_train, epochs=100, validation_data=(x_test, y_test))"
      ],
      "execution_count": 15,
      "outputs": [
        {
          "output_type": "stream",
          "text": [
            "Epoch 1/100\n",
            "3/3 [==============================] - 1s 243ms/step - loss: 0.5464 - accuracy: 0.0000e+00 - val_loss: 0.4371 - val_accuracy: 0.0000e+00\n",
            "Epoch 2/100\n",
            "3/3 [==============================] - 0s 9ms/step - loss: 0.5399 - accuracy: 0.0000e+00 - val_loss: 0.4310 - val_accuracy: 0.0000e+00\n",
            "Epoch 3/100\n",
            "3/3 [==============================] - 0s 9ms/step - loss: 0.5333 - accuracy: 0.0000e+00 - val_loss: 0.4248 - val_accuracy: 0.0000e+00\n",
            "Epoch 4/100\n",
            "3/3 [==============================] - 0s 11ms/step - loss: 0.5265 - accuracy: 0.0000e+00 - val_loss: 0.4184 - val_accuracy: 0.0000e+00\n",
            "Epoch 5/100\n",
            "3/3 [==============================] - 0s 8ms/step - loss: 0.5195 - accuracy: 0.0000e+00 - val_loss: 0.4118 - val_accuracy: 0.0000e+00\n",
            "Epoch 6/100\n",
            "3/3 [==============================] - 0s 8ms/step - loss: 0.5124 - accuracy: 0.0000e+00 - val_loss: 0.4050 - val_accuracy: 0.0000e+00\n",
            "Epoch 7/100\n",
            "3/3 [==============================] - 0s 8ms/step - loss: 0.5050 - accuracy: 0.0000e+00 - val_loss: 0.3980 - val_accuracy: 0.0000e+00\n",
            "Epoch 8/100\n",
            "3/3 [==============================] - 0s 11ms/step - loss: 0.4974 - accuracy: 0.0000e+00 - val_loss: 0.3909 - val_accuracy: 0.0000e+00\n",
            "Epoch 9/100\n",
            "3/3 [==============================] - 0s 8ms/step - loss: 0.4896 - accuracy: 0.0000e+00 - val_loss: 0.3835 - val_accuracy: 0.0000e+00\n",
            "Epoch 10/100\n",
            "3/3 [==============================] - 0s 8ms/step - loss: 0.4815 - accuracy: 0.0000e+00 - val_loss: 0.3759 - val_accuracy: 0.0000e+00\n",
            "Epoch 11/100\n",
            "3/3 [==============================] - 0s 8ms/step - loss: 0.4733 - accuracy: 0.0000e+00 - val_loss: 0.3682 - val_accuracy: 0.0000e+00\n",
            "Epoch 12/100\n",
            "3/3 [==============================] - 0s 8ms/step - loss: 0.4649 - accuracy: 0.0000e+00 - val_loss: 0.3602 - val_accuracy: 0.0000e+00\n",
            "Epoch 13/100\n",
            "3/3 [==============================] - 0s 8ms/step - loss: 0.4565 - accuracy: 0.0000e+00 - val_loss: 0.3521 - val_accuracy: 0.0000e+00\n",
            "Epoch 14/100\n",
            "3/3 [==============================] - 0s 8ms/step - loss: 0.4479 - accuracy: 0.0000e+00 - val_loss: 0.3442 - val_accuracy: 0.0000e+00\n",
            "Epoch 15/100\n",
            "3/3 [==============================] - 0s 8ms/step - loss: 0.4389 - accuracy: 0.0000e+00 - val_loss: 0.3364 - val_accuracy: 0.0000e+00\n",
            "Epoch 16/100\n",
            "3/3 [==============================] - 0s 8ms/step - loss: 0.4302 - accuracy: 0.0000e+00 - val_loss: 0.3283 - val_accuracy: 0.0000e+00\n",
            "Epoch 17/100\n",
            "3/3 [==============================] - 0s 9ms/step - loss: 0.4210 - accuracy: 0.0000e+00 - val_loss: 0.3201 - val_accuracy: 0.0000e+00\n",
            "Epoch 18/100\n",
            "3/3 [==============================] - 0s 8ms/step - loss: 0.4121 - accuracy: 0.0000e+00 - val_loss: 0.3117 - val_accuracy: 0.0000e+00\n",
            "Epoch 19/100\n",
            "3/3 [==============================] - 0s 8ms/step - loss: 0.4032 - accuracy: 0.0000e+00 - val_loss: 0.3032 - val_accuracy: 0.0000e+00\n",
            "Epoch 20/100\n",
            "3/3 [==============================] - 0s 8ms/step - loss: 0.3942 - accuracy: 0.0000e+00 - val_loss: 0.2946 - val_accuracy: 0.0000e+00\n",
            "Epoch 21/100\n",
            "3/3 [==============================] - 0s 8ms/step - loss: 0.3851 - accuracy: 0.0000e+00 - val_loss: 0.2861 - val_accuracy: 0.0000e+00\n",
            "Epoch 22/100\n",
            "3/3 [==============================] - 0s 8ms/step - loss: 0.3760 - accuracy: 0.0000e+00 - val_loss: 0.2774 - val_accuracy: 0.0000e+00\n",
            "Epoch 23/100\n",
            "3/3 [==============================] - 0s 8ms/step - loss: 0.3673 - accuracy: 0.0000e+00 - val_loss: 0.2688 - val_accuracy: 0.0000e+00\n",
            "Epoch 24/100\n",
            "3/3 [==============================] - 0s 9ms/step - loss: 0.3587 - accuracy: 0.0000e+00 - val_loss: 0.2602 - val_accuracy: 0.0000e+00\n",
            "Epoch 25/100\n",
            "3/3 [==============================] - 0s 8ms/step - loss: 0.3504 - accuracy: 0.0000e+00 - val_loss: 0.2521 - val_accuracy: 0.0000e+00\n",
            "Epoch 26/100\n",
            "3/3 [==============================] - 0s 8ms/step - loss: 0.3414 - accuracy: 0.0000e+00 - val_loss: 0.2442 - val_accuracy: 0.0000e+00\n",
            "Epoch 27/100\n",
            "3/3 [==============================] - 0s 10ms/step - loss: 0.3338 - accuracy: 0.0000e+00 - val_loss: 0.2362 - val_accuracy: 0.0000e+00\n",
            "Epoch 28/100\n",
            "3/3 [==============================] - 0s 8ms/step - loss: 0.3253 - accuracy: 0.0000e+00 - val_loss: 0.2290 - val_accuracy: 0.0000e+00\n",
            "Epoch 29/100\n",
            "3/3 [==============================] - 0s 9ms/step - loss: 0.3173 - accuracy: 0.0000e+00 - val_loss: 0.2224 - val_accuracy: 0.0000e+00\n",
            "Epoch 30/100\n",
            "3/3 [==============================] - 0s 9ms/step - loss: 0.3093 - accuracy: 0.0000e+00 - val_loss: 0.2161 - val_accuracy: 0.0000e+00\n",
            "Epoch 31/100\n",
            "3/3 [==============================] - 0s 9ms/step - loss: 0.3019 - accuracy: 0.0000e+00 - val_loss: 0.2104 - val_accuracy: 0.0000e+00\n",
            "Epoch 32/100\n",
            "3/3 [==============================] - 0s 9ms/step - loss: 0.2940 - accuracy: 0.0000e+00 - val_loss: 0.2051 - val_accuracy: 0.0000e+00\n",
            "Epoch 33/100\n",
            "3/3 [==============================] - 0s 8ms/step - loss: 0.2870 - accuracy: 0.0000e+00 - val_loss: 0.1998 - val_accuracy: 0.0000e+00\n",
            "Epoch 34/100\n",
            "3/3 [==============================] - 0s 9ms/step - loss: 0.2799 - accuracy: 0.0000e+00 - val_loss: 0.1946 - val_accuracy: 0.0000e+00\n",
            "Epoch 35/100\n",
            "3/3 [==============================] - 0s 8ms/step - loss: 0.2731 - accuracy: 0.0000e+00 - val_loss: 0.1901 - val_accuracy: 0.0000e+00\n",
            "Epoch 36/100\n",
            "3/3 [==============================] - 0s 8ms/step - loss: 0.2670 - accuracy: 0.0000e+00 - val_loss: 0.1859 - val_accuracy: 0.0000e+00\n",
            "Epoch 37/100\n",
            "3/3 [==============================] - 0s 8ms/step - loss: 0.2607 - accuracy: 0.0000e+00 - val_loss: 0.1819 - val_accuracy: 0.0000e+00\n",
            "Epoch 38/100\n",
            "3/3 [==============================] - 0s 10ms/step - loss: 0.2551 - accuracy: 0.0000e+00 - val_loss: 0.1779 - val_accuracy: 0.0000e+00\n",
            "Epoch 39/100\n",
            "3/3 [==============================] - 0s 9ms/step - loss: 0.2495 - accuracy: 0.0000e+00 - val_loss: 0.1746 - val_accuracy: 0.0000e+00\n",
            "Epoch 40/100\n",
            "3/3 [==============================] - 0s 9ms/step - loss: 0.2441 - accuracy: 0.0000e+00 - val_loss: 0.1716 - val_accuracy: 0.0000e+00\n",
            "Epoch 41/100\n",
            "3/3 [==============================] - 0s 8ms/step - loss: 0.2394 - accuracy: 0.0000e+00 - val_loss: 0.1691 - val_accuracy: 0.0000e+00\n",
            "Epoch 42/100\n",
            "3/3 [==============================] - 0s 8ms/step - loss: 0.2349 - accuracy: 0.0000e+00 - val_loss: 0.1669 - val_accuracy: 0.0000e+00\n",
            "Epoch 43/100\n",
            "3/3 [==============================] - 0s 8ms/step - loss: 0.2303 - accuracy: 0.0000e+00 - val_loss: 0.1649 - val_accuracy: 0.0500\n",
            "Epoch 44/100\n",
            "3/3 [==============================] - 0s 8ms/step - loss: 0.2261 - accuracy: 0.0000e+00 - val_loss: 0.1633 - val_accuracy: 0.0500\n",
            "Epoch 45/100\n",
            "3/3 [==============================] - 0s 10ms/step - loss: 0.2221 - accuracy: 0.0000e+00 - val_loss: 0.1621 - val_accuracy: 0.0500\n",
            "Epoch 46/100\n",
            "3/3 [==============================] - 0s 11ms/step - loss: 0.2186 - accuracy: 0.0000e+00 - val_loss: 0.1609 - val_accuracy: 0.0500\n",
            "Epoch 47/100\n",
            "3/3 [==============================] - 0s 9ms/step - loss: 0.2154 - accuracy: 0.0000e+00 - val_loss: 0.1597 - val_accuracy: 0.0500\n",
            "Epoch 48/100\n",
            "3/3 [==============================] - 0s 10ms/step - loss: 0.2122 - accuracy: 0.0000e+00 - val_loss: 0.1587 - val_accuracy: 0.0500\n",
            "Epoch 49/100\n",
            "3/3 [==============================] - 0s 9ms/step - loss: 0.2094 - accuracy: 0.0000e+00 - val_loss: 0.1576 - val_accuracy: 0.0500\n",
            "Epoch 50/100\n",
            "3/3 [==============================] - 0s 9ms/step - loss: 0.2068 - accuracy: 0.0000e+00 - val_loss: 0.1567 - val_accuracy: 0.0500\n",
            "Epoch 51/100\n",
            "3/3 [==============================] - 0s 9ms/step - loss: 0.2045 - accuracy: 0.0000e+00 - val_loss: 0.1558 - val_accuracy: 0.0500\n",
            "Epoch 52/100\n",
            "3/3 [==============================] - 0s 8ms/step - loss: 0.2023 - accuracy: 0.0000e+00 - val_loss: 0.1554 - val_accuracy: 0.0500\n",
            "Epoch 53/100\n",
            "3/3 [==============================] - 0s 8ms/step - loss: 0.2001 - accuracy: 0.0000e+00 - val_loss: 0.1549 - val_accuracy: 0.0500\n",
            "Epoch 54/100\n",
            "3/3 [==============================] - 0s 8ms/step - loss: 0.1982 - accuracy: 0.0000e+00 - val_loss: 0.1546 - val_accuracy: 0.0500\n",
            "Epoch 55/100\n",
            "3/3 [==============================] - 0s 8ms/step - loss: 0.1964 - accuracy: 0.0000e+00 - val_loss: 0.1546 - val_accuracy: 0.0500\n",
            "Epoch 56/100\n",
            "3/3 [==============================] - 0s 8ms/step - loss: 0.1947 - accuracy: 0.0000e+00 - val_loss: 0.1546 - val_accuracy: 0.0500\n",
            "Epoch 57/100\n",
            "3/3 [==============================] - 0s 8ms/step - loss: 0.1929 - accuracy: 0.0000e+00 - val_loss: 0.1545 - val_accuracy: 0.0500\n",
            "Epoch 58/100\n",
            "3/3 [==============================] - 0s 9ms/step - loss: 0.1914 - accuracy: 0.0000e+00 - val_loss: 0.1544 - val_accuracy: 0.0500\n",
            "Epoch 59/100\n",
            "3/3 [==============================] - 0s 8ms/step - loss: 0.1899 - accuracy: 0.0000e+00 - val_loss: 0.1543 - val_accuracy: 0.0500\n",
            "Epoch 60/100\n",
            "3/3 [==============================] - 0s 8ms/step - loss: 0.1884 - accuracy: 0.0000e+00 - val_loss: 0.1541 - val_accuracy: 0.0500\n",
            "Epoch 61/100\n",
            "3/3 [==============================] - 0s 8ms/step - loss: 0.1874 - accuracy: 0.0000e+00 - val_loss: 0.1540 - val_accuracy: 0.0500\n",
            "Epoch 62/100\n",
            "3/3 [==============================] - 0s 9ms/step - loss: 0.1860 - accuracy: 0.0000e+00 - val_loss: 0.1540 - val_accuracy: 0.0500\n",
            "Epoch 63/100\n",
            "3/3 [==============================] - 0s 8ms/step - loss: 0.1850 - accuracy: 0.0000e+00 - val_loss: 0.1542 - val_accuracy: 0.0500\n",
            "Epoch 64/100\n",
            "3/3 [==============================] - 0s 9ms/step - loss: 0.1838 - accuracy: 0.0000e+00 - val_loss: 0.1542 - val_accuracy: 0.0500\n",
            "Epoch 65/100\n",
            "3/3 [==============================] - 0s 9ms/step - loss: 0.1825 - accuracy: 0.0000e+00 - val_loss: 0.1542 - val_accuracy: 0.0500\n",
            "Epoch 66/100\n",
            "3/3 [==============================] - 0s 11ms/step - loss: 0.1815 - accuracy: 0.0000e+00 - val_loss: 0.1541 - val_accuracy: 0.0500\n",
            "Epoch 67/100\n",
            "3/3 [==============================] - 0s 8ms/step - loss: 0.1804 - accuracy: 0.0000e+00 - val_loss: 0.1542 - val_accuracy: 0.0500\n",
            "Epoch 68/100\n",
            "3/3 [==============================] - 0s 8ms/step - loss: 0.1794 - accuracy: 0.0000e+00 - val_loss: 0.1544 - val_accuracy: 0.0500\n",
            "Epoch 69/100\n",
            "3/3 [==============================] - 0s 8ms/step - loss: 0.1783 - accuracy: 0.0000e+00 - val_loss: 0.1546 - val_accuracy: 0.0500\n",
            "Epoch 70/100\n",
            "3/3 [==============================] - 0s 9ms/step - loss: 0.1773 - accuracy: 0.0000e+00 - val_loss: 0.1548 - val_accuracy: 0.0500\n",
            "Epoch 71/100\n",
            "3/3 [==============================] - 0s 8ms/step - loss: 0.1763 - accuracy: 0.0000e+00 - val_loss: 0.1550 - val_accuracy: 0.0500\n",
            "Epoch 72/100\n",
            "3/3 [==============================] - 0s 8ms/step - loss: 0.1754 - accuracy: 0.0000e+00 - val_loss: 0.1550 - val_accuracy: 0.0500\n",
            "Epoch 73/100\n",
            "3/3 [==============================] - 0s 8ms/step - loss: 0.1745 - accuracy: 0.0000e+00 - val_loss: 0.1550 - val_accuracy: 0.0500\n",
            "Epoch 74/100\n",
            "3/3 [==============================] - 0s 8ms/step - loss: 0.1736 - accuracy: 0.0000e+00 - val_loss: 0.1548 - val_accuracy: 0.0500\n",
            "Epoch 75/100\n",
            "3/3 [==============================] - 0s 9ms/step - loss: 0.1727 - accuracy: 0.0000e+00 - val_loss: 0.1545 - val_accuracy: 0.0500\n",
            "Epoch 76/100\n",
            "3/3 [==============================] - 0s 10ms/step - loss: 0.1718 - accuracy: 0.0000e+00 - val_loss: 0.1541 - val_accuracy: 0.0500\n",
            "Epoch 77/100\n",
            "3/3 [==============================] - 0s 10ms/step - loss: 0.1710 - accuracy: 0.0000e+00 - val_loss: 0.1537 - val_accuracy: 0.0500\n",
            "Epoch 78/100\n",
            "3/3 [==============================] - 0s 8ms/step - loss: 0.1702 - accuracy: 0.0000e+00 - val_loss: 0.1534 - val_accuracy: 0.0500\n",
            "Epoch 79/100\n",
            "3/3 [==============================] - 0s 8ms/step - loss: 0.1693 - accuracy: 0.0000e+00 - val_loss: 0.1530 - val_accuracy: 0.0500\n",
            "Epoch 80/100\n",
            "3/3 [==============================] - 0s 8ms/step - loss: 0.1685 - accuracy: 0.0000e+00 - val_loss: 0.1525 - val_accuracy: 0.0500\n",
            "Epoch 81/100\n",
            "3/3 [==============================] - 0s 8ms/step - loss: 0.1676 - accuracy: 0.0000e+00 - val_loss: 0.1520 - val_accuracy: 0.0500\n",
            "Epoch 82/100\n",
            "3/3 [==============================] - 0s 10ms/step - loss: 0.1668 - accuracy: 0.0000e+00 - val_loss: 0.1514 - val_accuracy: 0.0500\n",
            "Epoch 83/100\n",
            "3/3 [==============================] - 0s 9ms/step - loss: 0.1659 - accuracy: 0.0000e+00 - val_loss: 0.1507 - val_accuracy: 0.0500\n",
            "Epoch 84/100\n",
            "3/3 [==============================] - 0s 8ms/step - loss: 0.1650 - accuracy: 0.0000e+00 - val_loss: 0.1501 - val_accuracy: 0.0500\n",
            "Epoch 85/100\n",
            "3/3 [==============================] - 0s 8ms/step - loss: 0.1641 - accuracy: 0.0000e+00 - val_loss: 0.1494 - val_accuracy: 0.0500\n",
            "Epoch 86/100\n",
            "3/3 [==============================] - 0s 8ms/step - loss: 0.1632 - accuracy: 0.0000e+00 - val_loss: 0.1490 - val_accuracy: 0.0500\n",
            "Epoch 87/100\n",
            "3/3 [==============================] - 0s 9ms/step - loss: 0.1623 - accuracy: 0.0000e+00 - val_loss: 0.1486 - val_accuracy: 0.0500\n",
            "Epoch 88/100\n",
            "3/3 [==============================] - 0s 11ms/step - loss: 0.1614 - accuracy: 0.0000e+00 - val_loss: 0.1483 - val_accuracy: 0.0500\n",
            "Epoch 89/100\n",
            "3/3 [==============================] - 0s 9ms/step - loss: 0.1604 - accuracy: 0.0000e+00 - val_loss: 0.1478 - val_accuracy: 0.0500\n",
            "Epoch 90/100\n",
            "3/3 [==============================] - 0s 8ms/step - loss: 0.1595 - accuracy: 0.0000e+00 - val_loss: 0.1472 - val_accuracy: 0.0500\n",
            "Epoch 91/100\n",
            "3/3 [==============================] - 0s 8ms/step - loss: 0.1585 - accuracy: 0.0000e+00 - val_loss: 0.1463 - val_accuracy: 0.0500\n",
            "Epoch 92/100\n",
            "3/3 [==============================] - 0s 8ms/step - loss: 0.1575 - accuracy: 0.0000e+00 - val_loss: 0.1456 - val_accuracy: 0.0500\n",
            "Epoch 93/100\n",
            "3/3 [==============================] - 0s 8ms/step - loss: 0.1565 - accuracy: 0.0000e+00 - val_loss: 0.1449 - val_accuracy: 0.0500\n",
            "Epoch 94/100\n",
            "3/3 [==============================] - 0s 9ms/step - loss: 0.1555 - accuracy: 0.0000e+00 - val_loss: 0.1440 - val_accuracy: 0.0500\n",
            "Epoch 95/100\n",
            "3/3 [==============================] - 0s 11ms/step - loss: 0.1545 - accuracy: 0.0000e+00 - val_loss: 0.1431 - val_accuracy: 0.0500\n",
            "Epoch 96/100\n",
            "3/3 [==============================] - 0s 11ms/step - loss: 0.1535 - accuracy: 0.0000e+00 - val_loss: 0.1421 - val_accuracy: 0.0500\n",
            "Epoch 97/100\n",
            "3/3 [==============================] - 0s 10ms/step - loss: 0.1524 - accuracy: 0.0000e+00 - val_loss: 0.1410 - val_accuracy: 0.0500\n",
            "Epoch 98/100\n",
            "3/3 [==============================] - 0s 9ms/step - loss: 0.1513 - accuracy: 0.0000e+00 - val_loss: 0.1399 - val_accuracy: 0.0500\n",
            "Epoch 99/100\n",
            "3/3 [==============================] - 0s 9ms/step - loss: 0.1502 - accuracy: 0.0000e+00 - val_loss: 0.1388 - val_accuracy: 0.0500\n",
            "Epoch 100/100\n",
            "3/3 [==============================] - 0s 8ms/step - loss: 0.1491 - accuracy: 0.0000e+00 - val_loss: 0.1374 - val_accuracy: 0.0500\n"
          ],
          "name": "stdout"
        }
      ]
    },
    {
      "cell_type": "code",
      "metadata": {
        "id": "Leflj48eg4Fl"
      },
      "source": [
        "results = model.predict(x_test)"
      ],
      "execution_count": 16,
      "outputs": []
    },
    {
      "cell_type": "code",
      "metadata": {
        "id": "Mwf8IhFVhMeH",
        "outputId": "3d7ad34e-5217-4efa-b83b-559dc46572a1",
        "colab": {
          "base_uri": "https://localhost:8080/",
          "height": 265
        }
      },
      "source": [
        "plt.scatter(range(20), results, c = 'r')\n",
        "plt.scatter(range(20), y_test, c = 'g')\n",
        "plt.show()"
      ],
      "execution_count": 17,
      "outputs": [
        {
          "output_type": "display_data",
          "data": {
            "image/png": "[encoded data removed]",
            "text/plain": [
              "<Figure size 432x288 with 1 Axes>"
            ]
          },
          "metadata": {
            "tags": [],
            "needs_background": "light"
          }
        }
      ]
    },
    {
      "cell_type": "code",
      "metadata": {
        "id": "0W_9wbDMhVo3",
        "outputId": "2a3d369e-ee60-442f-afbb-413e9cfe462c",
        "colab": {
          "base_uri": "https://localhost:8080/",
          "height": 265
        }
      },
      "source": [
        "# cost change\n",
        "plt.plot(history.history['loss'])\n",
        "plt.show()"
      ],
      "execution_count": 18,
      "outputs": [
        {
          "output_type": "display_data",
          "data": {
            "image/png": "[encoded data removed]",
            "text/plain": [
              "<Figure size 432x288 with 1 Axes>"
            ]
          },
          "metadata": {
            "tags": [],
            "needs_background": "light"
          }
        }
      ]
    }
  ]
}